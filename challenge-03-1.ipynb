{
 "cells": [
  {
   "cell_type": "code",
   "execution_count": null,
   "metadata": {},
   "outputs": [],
   "source": [
    "test_file = \"data-01/test-input.txt\"\n",
    "main_file = \"data-01/input.txt\""
   ]
  },
  {
   "cell_type": "code",
   "execution_count": null,
   "metadata": {},
   "outputs": [],
   "source": [
    "def decode_rucksack(raw_line):\n",
    "\n",
    "    line = raw_line.rstrip('\\n')\n",
    "    return (\n",
    "        line[\n",
    "            0:len(line)//2\n",
    "        ],\n",
    "        line[\n",
    "            len(line)//2:\n",
    "        ]\n",
    "    )\n",
    "\n",
    "\n",
    "print(decode_rucksack(\"AX\\n\"))\n",
    "print(decode_rucksack(\"PmmdzqPrVvPwwTWBwg\\n\"))"
   ]
  },
  {
   "cell_type": "code",
   "execution_count": null,
   "metadata": {},
   "outputs": [],
   "source": [
    "def common_item_type(rucksack):\n",
    "    r1, r2 = rucksack\n",
    "\n",
    "    r1_types = {i for i in r1}\n",
    "    # print(r1_types)\n",
    "    r2_types = {i for i in r2}\n",
    "    #print(r2_types)\n",
    "\n",
    "    return(list(r1_types & r2_types)[0])\n",
    "\n",
    "\n",
    "\n",
    "common_item_type(('PmmdzqPrV', 'vPwwTWBwg'))"
   ]
  },
  {
   "cell_type": "code",
   "execution_count": null,
   "metadata": {},
   "outputs": [],
   "source": [
    "def item_type_priority(x):\n",
    "    import string\n",
    "    priority_lookup = tuple([\n",
    "        x for x in string.ascii_letters\n",
    "    ])\n",
    "    return priority_lookup.index(x) + 1\n",
    "\n",
    "print(item_type_priority(\"a\"))\n",
    "print(item_type_priority(\"z\"))\n",
    "print(item_type_priority(\"A\"))\n",
    "print(item_type_priority(\"Z\"))"
   ]
  },
  {
   "cell_type": "code",
   "execution_count": null,
   "metadata": {},
   "outputs": [],
   "source": [
    "def challenge1(input_file):\n",
    "    with open(input_file) as f:\n",
    "        lines = f.readlines()\n",
    "    \n",
    "    # print(lines)\n",
    "\n",
    "    rucksacks = {\n",
    "        i: decode_rucksack(lines[i]) for i in range(len(lines))\n",
    "    }\n",
    "    # print(rucksacks)\n",
    "\n",
    "    rucksacks_common_item_type = {\n",
    "        k:  common_item_type(rucksacks[k])\n",
    "        for k in rucksacks\n",
    "    }\n",
    "    print(rucksacks_common_item_type)\n",
    "\n",
    "    rucksacks_priority = {\n",
    "        k:  item_type_priority(rucksacks_common_item_type[k])\n",
    "        for k in rucksacks\n",
    "    }\n",
    "    print(rucksacks_priority)\n",
    "\n",
    "    return (sum(rucksacks_priority.values()))\n",
    "\n",
    "\n",
    "challenge1(input_file=test_file)"
   ]
  },
  {
   "cell_type": "code",
   "execution_count": null,
   "metadata": {},
   "outputs": [],
   "source": [
    "challenge1(input_file=main_file)"
   ]
  }
 ],
 "metadata": {
  "kernelspec": {
   "display_name": "Python 3.11.0 ('base')",
   "language": "python",
   "name": "python3"
  },
  "language_info": {
   "codemirror_mode": {
    "name": "ipython",
    "version": 3
   },
   "file_extension": ".py",
   "mimetype": "text/x-python",
   "name": "python",
   "nbconvert_exporter": "python",
   "pygments_lexer": "ipython3",
   "version": "3.11.0"
  },
  "orig_nbformat": 4,
  "vscode": {
   "interpreter": {
    "hash": "d4d1e4263499bec80672ea0156c357c1ee493ec2b1c70f0acce89fc37c4a6abe"
   }
  }
 },
 "nbformat": 4,
 "nbformat_minor": 2
}
