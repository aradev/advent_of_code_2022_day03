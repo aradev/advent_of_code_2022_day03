{
 "cells": [
  {
   "cell_type": "code",
   "execution_count": null,
   "metadata": {},
   "outputs": [],
   "source": [
    "test_file = \"data-01/test-input.txt\"\n",
    "main_file = \"data-01/input.txt\""
   ]
  },
  {
   "cell_type": "code",
   "execution_count": null,
   "metadata": {},
   "outputs": [],
   "source": [
    "def decode_rucksack(raw_line):\n",
    "\n",
    "    line = raw_line.rstrip('\\n')\n",
    "    return (line)\n",
    "\n",
    "print(decode_rucksack(\"AX\\n\"))\n",
    "print(decode_rucksack(\"PmmdzqPrVvPwwTWBwg\\n\"))"
   ]
  },
  {
   "cell_type": "code",
   "execution_count": null,
   "metadata": {},
   "outputs": [],
   "source": [
    "def common_item_type(rucksack_group):\n",
    "    r1, r2, r3 = rucksack_group\n",
    "\n",
    "    r1_types = {i for i in r1}\n",
    "    r2_types = {i for i in r2}\n",
    "    r3_types = {i for i in r3}\n",
    "\n",
    "    return(list(r1_types & r2_types & r3_types)[0])\n",
    "\n",
    "\n",
    "\n",
    "common_item_type((\"vJrwpWtwJgWrhcsFMMfFFhFp\", \"jqHRNqRjqzjGDLGLrsFMfFZSrLrFZsSL\", \"PmmdzqPrVvPwwTWBwg\"))"
   ]
  },
  {
   "cell_type": "code",
   "execution_count": null,
   "metadata": {},
   "outputs": [],
   "source": [
    "def item_type_priority(x):\n",
    "    import string\n",
    "    priority_lookup = tuple([\n",
    "        x for x in string.ascii_letters\n",
    "    ])\n",
    "    return priority_lookup.index(x) + 1\n",
    "\n",
    "print(item_type_priority(\"a\"))\n",
    "print(item_type_priority(\"z\"))\n",
    "print(item_type_priority(\"A\"))\n",
    "print(item_type_priority(\"Z\"))"
   ]
  },
  {
   "cell_type": "code",
   "execution_count": null,
   "metadata": {},
   "outputs": [],
   "source": [
    "def challenge2(input_file):\n",
    "    with open(input_file) as f:\n",
    "        lines = f.readlines()\n",
    "\n",
    "\n",
    "    rucksacks = {\n",
    "        i: decode_rucksack(lines[i]) for i in range(len(lines))\n",
    "    }\n",
    "    # print(rucksacks)\n",
    "\n",
    "    rucksack_groups = {}\n",
    "    for i in rucksacks:\n",
    "        k = i // 3\n",
    "        rucksack_groups.setdefault(k, []).append(rucksacks[i])\n",
    "    # print(rucksack_groups)\n",
    "\n",
    "    rucksack_group_label = {\n",
    "        k:  common_item_type(tuple(rucksack_groups[k]))\n",
    "        for k in rucksack_groups\n",
    "    }\n",
    "    # print(rucksack_group_label)\n",
    "\n",
    "\n",
    "    rucksack_group_priority = {\n",
    "        k:  item_type_priority(rucksack_group_label[k])\n",
    "        for k in rucksack_group_label\n",
    "    }\n",
    "    print(rucksack_group_priority)\n",
    "\n",
    "    return (sum(rucksack_group_priority.values()))\n",
    "\n",
    "\n",
    "challenge2(input_file=test_file)"
   ]
  },
  {
   "cell_type": "code",
   "execution_count": null,
   "metadata": {},
   "outputs": [],
   "source": [
    "challenge2(input_file=main_file)"
   ]
  }
 ],
 "metadata": {
  "kernelspec": {
   "display_name": "Python 3.11.0 ('base')",
   "language": "python",
   "name": "python3"
  },
  "language_info": {
   "codemirror_mode": {
    "name": "ipython",
    "version": 3
   },
   "file_extension": ".py",
   "mimetype": "text/x-python",
   "name": "python",
   "nbconvert_exporter": "python",
   "pygments_lexer": "ipython3",
   "version": "3.11.0"
  },
  "orig_nbformat": 4,
  "vscode": {
   "interpreter": {
    "hash": "d4d1e4263499bec80672ea0156c357c1ee493ec2b1c70f0acce89fc37c4a6abe"
   }
  }
 },
 "nbformat": 4,
 "nbformat_minor": 2
}
